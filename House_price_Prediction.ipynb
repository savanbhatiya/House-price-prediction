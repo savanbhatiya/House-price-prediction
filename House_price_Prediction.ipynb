{
  "nbformat": 4,
  "nbformat_minor": 0,
  "metadata": {
    "colab": {
      "name": "House price Prediction.ipynb",
      "provenance": []
    },
    "kernelspec": {
      "name": "python3",
      "display_name": "Python 3"
    },
    "language_info": {
      "name": "python"
    }
  },
  "cells": [
    {
      "cell_type": "code",
      "source": [
        "from google.colab import drive\n",
        "drive.mount('/content/drive')"
      ],
      "metadata": {
        "colab": {
          "base_uri": "https://localhost:8080/"
        },
        "id": "AFBRruTNv3RE",
        "outputId": "52592bc3-e280-4194-e95b-8d99189109a5"
      },
      "execution_count": null,
      "outputs": [
        {
          "output_type": "stream",
          "name": "stdout",
          "text": [
            "Drive already mounted at /content/drive; to attempt to forcibly remount, call drive.mount(\"/content/drive\", force_remount=True).\n"
          ]
        }
      ]
    },
    {
      "cell_type": "code",
      "source": [
        "import tensorflow as tf\n",
        "import numpy as np\n",
        "import pandas as pd\n",
        "import matplotlib.pyplot as plt\n",
        "import seaborn as sns\n",
        "%matplotlib inline"
      ],
      "metadata": {
        "id": "Z3h9HKoswg-H"
      },
      "execution_count": null,
      "outputs": []
    },
    {
      "cell_type": "code",
      "source": [
        "train_data = pd.read_csv('/content/drive/MyDrive/dataset/train.csv')\n",
        "test_data = pd.read_csv('/content/drive/MyDrive/dataset/test.csv')"
      ],
      "metadata": {
        "id": "5BV_6s0BxbfL"
      },
      "execution_count": null,
      "outputs": []
    },
    {
      "cell_type": "code",
      "source": [
        "train_data.isnull().sum()"
      ],
      "metadata": {
        "colab": {
          "base_uri": "https://localhost:8080/"
        },
        "id": "LqCoBc5Uxq1D",
        "outputId": "2ca0a0c4-9325-4c0f-9b8f-e2362d353b14"
      },
      "execution_count": null,
      "outputs": [
        {
          "output_type": "execute_result",
          "data": {
            "text/plain": [
              "POSTED_BY                0\n",
              "UNDER_CONSTRUCTION       0\n",
              "RERA                     0\n",
              "BHK_NO.                  0\n",
              "BHK_OR_RK                0\n",
              "SQUARE_FT                0\n",
              "READY_TO_MOVE            0\n",
              "RESALE                   0\n",
              "ADDRESS                  0\n",
              "LONGITUDE                0\n",
              "LATITUDE                 0\n",
              "TARGET(PRICE_IN_LACS)    0\n",
              "dtype: int64"
            ]
          },
          "metadata": {},
          "execution_count": 6
        }
      ]
    },
    {
      "cell_type": "code",
      "source": [
        "test_data.isnull().sum()"
      ],
      "metadata": {
        "colab": {
          "base_uri": "https://localhost:8080/"
        },
        "id": "eYvs_qRdxu80",
        "outputId": "f10c6b00-c3f7-4693-97b2-3f44364f3955"
      },
      "execution_count": null,
      "outputs": [
        {
          "output_type": "execute_result",
          "data": {
            "text/plain": [
              "POSTED_BY             0\n",
              "UNDER_CONSTRUCTION    0\n",
              "RERA                  0\n",
              "BHK_NO.               0\n",
              "BHK_OR_RK             0\n",
              "SQUARE_FT             0\n",
              "READY_TO_MOVE         0\n",
              "RESALE                0\n",
              "ADDRESS               0\n",
              "LONGITUDE             0\n",
              "LATITUDE              0\n",
              "dtype: int64"
            ]
          },
          "metadata": {},
          "execution_count": 7
        }
      ]
    },
    {
      "cell_type": "code",
      "source": [
        "train_data['TARGET(PRICE_IN_LACS)'].value_counts()"
      ],
      "metadata": {
        "colab": {
          "base_uri": "https://localhost:8080/"
        },
        "id": "Us1uRYVbxyEr",
        "outputId": "b6f75bb4-74ea-427c-ec60-f85bef50e003"
      },
      "execution_count": null,
      "outputs": [
        {
          "output_type": "execute_result",
          "data": {
            "text/plain": [
              "110.0     795\n",
              "100.0     770\n",
              "120.0     652\n",
              "130.0     598\n",
              "45.0      583\n",
              "         ... \n",
              "96.6        1\n",
              "95.6        1\n",
              "8660.0      1\n",
              "94.3        1\n",
              "78.2        1\n",
              "Name: TARGET(PRICE_IN_LACS), Length: 1172, dtype: int64"
            ]
          },
          "metadata": {},
          "execution_count": 7
        }
      ]
    },
    {
      "cell_type": "code",
      "source": [
        "# Remove the price outliers\n",
        "train_data = train_data.sort_values('TARGET(PRICE_IN_LACS)',ascending=False).iloc[884:] \n",
        "train_data.describe()"
      ],
      "metadata": {
        "colab": {
          "base_uri": "https://localhost:8080/",
          "height": 300
        },
        "id": "-SFJPnp1x5ou",
        "outputId": "4a40dd38-044c-4f12-f8a8-69c61c0e8eb5"
      },
      "execution_count": null,
      "outputs": [
        {
          "output_type": "execute_result",
          "data": {
            "text/html": [
              "<div>\n",
              "<style scoped>\n",
              "    .dataframe tbody tr th:only-of-type {\n",
              "        vertical-align: middle;\n",
              "    }\n",
              "\n",
              "    .dataframe tbody tr th {\n",
              "        vertical-align: top;\n",
              "    }\n",
              "\n",
              "    .dataframe thead th {\n",
              "        text-align: right;\n",
              "    }\n",
              "</style>\n",
              "<table border=\"1\" class=\"dataframe\">\n",
              "  <thead>\n",
              "    <tr style=\"text-align: right;\">\n",
              "      <th></th>\n",
              "      <th>UNDER_CONSTRUCTION</th>\n",
              "      <th>RERA</th>\n",
              "      <th>BHK_NO.</th>\n",
              "      <th>SQUARE_FT</th>\n",
              "      <th>READY_TO_MOVE</th>\n",
              "      <th>RESALE</th>\n",
              "      <th>LONGITUDE</th>\n",
              "      <th>LATITUDE</th>\n",
              "      <th>TARGET(PRICE_IN_LACS)</th>\n",
              "    </tr>\n",
              "  </thead>\n",
              "  <tbody>\n",
              "    <tr>\n",
              "      <th>count</th>\n",
              "      <td>28567.000000</td>\n",
              "      <td>28567.000000</td>\n",
              "      <td>28567.000000</td>\n",
              "      <td>2.856700e+04</td>\n",
              "      <td>28567.000000</td>\n",
              "      <td>28567.000000</td>\n",
              "      <td>28567.000000</td>\n",
              "      <td>28567.000000</td>\n",
              "      <td>28567.000000</td>\n",
              "    </tr>\n",
              "    <tr>\n",
              "      <th>mean</th>\n",
              "      <td>0.179298</td>\n",
              "      <td>0.315924</td>\n",
              "      <td>2.353450</td>\n",
              "      <td>1.542744e+03</td>\n",
              "      <td>0.820702</td>\n",
              "      <td>0.933875</td>\n",
              "      <td>21.348115</td>\n",
              "      <td>76.926668</td>\n",
              "      <td>81.959182</td>\n",
              "    </tr>\n",
              "    <tr>\n",
              "      <th>std</th>\n",
              "      <td>0.383608</td>\n",
              "      <td>0.464891</td>\n",
              "      <td>0.825286</td>\n",
              "      <td>2.666530e+04</td>\n",
              "      <td>0.383608</td>\n",
              "      <td>0.248505</td>\n",
              "      <td>6.240020</td>\n",
              "      <td>10.457439</td>\n",
              "      <td>69.031482</td>\n",
              "    </tr>\n",
              "    <tr>\n",
              "      <th>min</th>\n",
              "      <td>0.000000</td>\n",
              "      <td>0.000000</td>\n",
              "      <td>1.000000</td>\n",
              "      <td>3.000000e+00</td>\n",
              "      <td>0.000000</td>\n",
              "      <td>0.000000</td>\n",
              "      <td>-37.713008</td>\n",
              "      <td>-121.761248</td>\n",
              "      <td>0.250000</td>\n",
              "    </tr>\n",
              "    <tr>\n",
              "      <th>25%</th>\n",
              "      <td>0.000000</td>\n",
              "      <td>0.000000</td>\n",
              "      <td>2.000000</td>\n",
              "      <td>8.908686e+02</td>\n",
              "      <td>1.000000</td>\n",
              "      <td>1.000000</td>\n",
              "      <td>18.438476</td>\n",
              "      <td>73.847780</td>\n",
              "      <td>37.000000</td>\n",
              "    </tr>\n",
              "    <tr>\n",
              "      <th>50%</th>\n",
              "      <td>0.000000</td>\n",
              "      <td>0.000000</td>\n",
              "      <td>2.000000</td>\n",
              "      <td>1.156154e+03</td>\n",
              "      <td>1.000000</td>\n",
              "      <td>1.000000</td>\n",
              "      <td>21.071623</td>\n",
              "      <td>77.338956</td>\n",
              "      <td>60.000000</td>\n",
              "    </tr>\n",
              "    <tr>\n",
              "      <th>75%</th>\n",
              "      <td>0.000000</td>\n",
              "      <td>1.000000</td>\n",
              "      <td>3.000000</td>\n",
              "      <td>1.505131e+03</td>\n",
              "      <td>1.000000</td>\n",
              "      <td>1.000000</td>\n",
              "      <td>26.900926</td>\n",
              "      <td>78.020000</td>\n",
              "      <td>100.000000</td>\n",
              "    </tr>\n",
              "    <tr>\n",
              "      <th>max</th>\n",
              "      <td>1.000000</td>\n",
              "      <td>1.000000</td>\n",
              "      <td>20.000000</td>\n",
              "      <td>4.300000e+06</td>\n",
              "      <td>1.000000</td>\n",
              "      <td>1.000000</td>\n",
              "      <td>59.912884</td>\n",
              "      <td>152.962676</td>\n",
              "      <td>420.000000</td>\n",
              "    </tr>\n",
              "  </tbody>\n",
              "</table>\n",
              "</div>"
            ],
            "text/plain": [
              "       UNDER_CONSTRUCTION          RERA  ...      LATITUDE  TARGET(PRICE_IN_LACS)\n",
              "count        28567.000000  28567.000000  ...  28567.000000           28567.000000\n",
              "mean             0.179298      0.315924  ...     76.926668              81.959182\n",
              "std              0.383608      0.464891  ...     10.457439              69.031482\n",
              "min              0.000000      0.000000  ...   -121.761248               0.250000\n",
              "25%              0.000000      0.000000  ...     73.847780              37.000000\n",
              "50%              0.000000      0.000000  ...     77.338956              60.000000\n",
              "75%              0.000000      1.000000  ...     78.020000             100.000000\n",
              "max              1.000000      1.000000  ...    152.962676             420.000000\n",
              "\n",
              "[8 rows x 9 columns]"
            ]
          },
          "metadata": {},
          "execution_count": 8
        }
      ]
    },
    {
      "cell_type": "code",
      "source": [
        "# Cleaning the sqaure_ft outliers\n",
        "train_data = train_data.sort_values('SQUARE_FT',ascending=False).iloc[852:]\n",
        "train_data.describe()"
      ],
      "metadata": {
        "colab": {
          "base_uri": "https://localhost:8080/",
          "height": 300
        },
        "id": "uAzo6xmLx988",
        "outputId": "99496b28-bf46-4430-eff1-5df768f38f56"
      },
      "execution_count": null,
      "outputs": [
        {
          "output_type": "execute_result",
          "data": {
            "text/html": [
              "<div>\n",
              "<style scoped>\n",
              "    .dataframe tbody tr th:only-of-type {\n",
              "        vertical-align: middle;\n",
              "    }\n",
              "\n",
              "    .dataframe tbody tr th {\n",
              "        vertical-align: top;\n",
              "    }\n",
              "\n",
              "    .dataframe thead th {\n",
              "        text-align: right;\n",
              "    }\n",
              "</style>\n",
              "<table border=\"1\" class=\"dataframe\">\n",
              "  <thead>\n",
              "    <tr style=\"text-align: right;\">\n",
              "      <th></th>\n",
              "      <th>UNDER_CONSTRUCTION</th>\n",
              "      <th>RERA</th>\n",
              "      <th>BHK_NO.</th>\n",
              "      <th>SQUARE_FT</th>\n",
              "      <th>READY_TO_MOVE</th>\n",
              "      <th>RESALE</th>\n",
              "      <th>LONGITUDE</th>\n",
              "      <th>LATITUDE</th>\n",
              "      <th>TARGET(PRICE_IN_LACS)</th>\n",
              "    </tr>\n",
              "  </thead>\n",
              "  <tbody>\n",
              "    <tr>\n",
              "      <th>count</th>\n",
              "      <td>27715.000000</td>\n",
              "      <td>27715.000000</td>\n",
              "      <td>27715.000000</td>\n",
              "      <td>27715.000000</td>\n",
              "      <td>27715.000000</td>\n",
              "      <td>27715.000000</td>\n",
              "      <td>27715.000000</td>\n",
              "      <td>27715.000000</td>\n",
              "      <td>27715.000000</td>\n",
              "    </tr>\n",
              "    <tr>\n",
              "      <th>mean</th>\n",
              "      <td>0.180263</td>\n",
              "      <td>0.315136</td>\n",
              "      <td>2.304673</td>\n",
              "      <td>1197.120600</td>\n",
              "      <td>0.819737</td>\n",
              "      <td>0.934187</td>\n",
              "      <td>21.309430</td>\n",
              "      <td>76.924631</td>\n",
              "      <td>77.612777</td>\n",
              "    </tr>\n",
              "    <tr>\n",
              "      <th>std</th>\n",
              "      <td>0.384414</td>\n",
              "      <td>0.464578</td>\n",
              "      <td>0.749139</td>\n",
              "      <td>465.185990</td>\n",
              "      <td>0.384414</td>\n",
              "      <td>0.247959</td>\n",
              "      <td>6.208328</td>\n",
              "      <td>10.452539</td>\n",
              "      <td>62.884893</td>\n",
              "    </tr>\n",
              "    <tr>\n",
              "      <th>min</th>\n",
              "      <td>0.000000</td>\n",
              "      <td>0.000000</td>\n",
              "      <td>1.000000</td>\n",
              "      <td>3.000000</td>\n",
              "      <td>0.000000</td>\n",
              "      <td>0.000000</td>\n",
              "      <td>-37.713008</td>\n",
              "      <td>-121.761248</td>\n",
              "      <td>0.250000</td>\n",
              "    </tr>\n",
              "    <tr>\n",
              "      <th>25%</th>\n",
              "      <td>0.000000</td>\n",
              "      <td>0.000000</td>\n",
              "      <td>2.000000</td>\n",
              "      <td>876.111989</td>\n",
              "      <td>1.000000</td>\n",
              "      <td>1.000000</td>\n",
              "      <td>18.441921</td>\n",
              "      <td>73.823649</td>\n",
              "      <td>36.000000</td>\n",
              "    </tr>\n",
              "    <tr>\n",
              "      <th>50%</th>\n",
              "      <td>0.000000</td>\n",
              "      <td>0.000000</td>\n",
              "      <td>2.000000</td>\n",
              "      <td>1149.131767</td>\n",
              "      <td>1.000000</td>\n",
              "      <td>1.000000</td>\n",
              "      <td>21.000000</td>\n",
              "      <td>77.338956</td>\n",
              "      <td>59.000000</td>\n",
              "    </tr>\n",
              "    <tr>\n",
              "      <th>75%</th>\n",
              "      <td>0.000000</td>\n",
              "      <td>1.000000</td>\n",
              "      <td>3.000000</td>\n",
              "      <td>1470.155837</td>\n",
              "      <td>1.000000</td>\n",
              "      <td>1.000000</td>\n",
              "      <td>26.900926</td>\n",
              "      <td>78.067294</td>\n",
              "      <td>95.000000</td>\n",
              "    </tr>\n",
              "    <tr>\n",
              "      <th>max</th>\n",
              "      <td>1.000000</td>\n",
              "      <td>1.000000</td>\n",
              "      <td>20.000000</td>\n",
              "      <td>2713.090662</td>\n",
              "      <td>1.000000</td>\n",
              "      <td>1.000000</td>\n",
              "      <td>59.912884</td>\n",
              "      <td>152.962676</td>\n",
              "      <td>420.000000</td>\n",
              "    </tr>\n",
              "  </tbody>\n",
              "</table>\n",
              "</div>"
            ],
            "text/plain": [
              "       UNDER_CONSTRUCTION          RERA  ...      LATITUDE  TARGET(PRICE_IN_LACS)\n",
              "count        27715.000000  27715.000000  ...  27715.000000           27715.000000\n",
              "mean             0.180263      0.315136  ...     76.924631              77.612777\n",
              "std              0.384414      0.464578  ...     10.452539              62.884893\n",
              "min              0.000000      0.000000  ...   -121.761248               0.250000\n",
              "25%              0.000000      0.000000  ...     73.823649              36.000000\n",
              "50%              0.000000      0.000000  ...     77.338956              59.000000\n",
              "75%              0.000000      1.000000  ...     78.067294              95.000000\n",
              "max              1.000000      1.000000  ...    152.962676             420.000000\n",
              "\n",
              "[8 rows x 9 columns]"
            ]
          },
          "metadata": {},
          "execution_count": 9
        }
      ]
    },
    {
      "cell_type": "code",
      "source": [
        "# Turning into a binary variable\n",
        "train_data['BHK_OR_RK'] = train_data['BHK_OR_RK'].replace(to_replace=['BHK', 'RK'], value=[1, 0])   "
      ],
      "metadata": {
        "id": "HpoJaSz6yFDW"
      },
      "execution_count": null,
      "outputs": []
    },
    {
      "cell_type": "code",
      "source": [
        "train_data['POSTED_BY'] = train_data['POSTED_BY'].replace(to_replace=['Owner', 'Dealer','Builder'], value=[0, 1, 2]) \n",
        "test_data['POSTED_BY'] = test_data['POSTED_BY'].replace(to_replace=['Owner', 'Dealer','Builder'], value=[0, 1, 2])   "
      ],
      "metadata": {
        "id": "_YUweZ9zyJfN"
      },
      "execution_count": null,
      "outputs": []
    },
    {
      "cell_type": "code",
      "source": [
        "train_data.drop(['ADDRESS'], axis = 1, inplace = True)\n",
        "test_data.drop(['ADDRESS'], axis = 1, inplace = True)"
      ],
      "metadata": {
        "id": "SrV3TkJ3yN40"
      },
      "execution_count": null,
      "outputs": []
    },
    {
      "cell_type": "code",
      "source": [
        "train_data.drop(['BHK_OR_RK'], axis = 1, inplace = True)\n",
        "test_data.drop(['BHK_OR_RK'], axis = 1, inplace = True)"
      ],
      "metadata": {
        "id": "qffvn3-1ySDO"
      },
      "execution_count": null,
      "outputs": []
    },
    {
      "cell_type": "code",
      "source": [
        "train_data.drop(['READY_TO_MOVE'], axis = 1, inplace = True)\n",
        "test_data.drop(['READY_TO_MOVE'], axis = 1, inplace = True)"
      ],
      "metadata": {
        "id": "mpQZL3Y-yU5e"
      },
      "execution_count": null,
      "outputs": []
    },
    {
      "cell_type": "code",
      "source": [
        "X_train = train_data.drop('TARGET(PRICE_IN_LACS)',axis=1).values\n",
        "Y_train = train_data['TARGET(PRICE_IN_LACS)'].values\n",
        "\n",
        "from sklearn.model_selection import train_test_split\n",
        "X_train, X_test, Y_train, Y_test = train_test_split(X_train,Y_train,test_size=0.1,random_state=42)"
      ],
      "metadata": {
        "id": "rgQ1v6rMyX7Z"
      },
      "execution_count": null,
      "outputs": []
    },
    {
      "cell_type": "code",
      "source": [
        "from sklearn.preprocessing import MinMaxScaler\n",
        "scaler = MinMaxScaler()"
      ],
      "metadata": {
        "id": "j5X_d2xLybca"
      },
      "execution_count": null,
      "outputs": []
    },
    {
      "cell_type": "code",
      "source": [
        "X_train = scaler.fit_transform(X_train)"
      ],
      "metadata": {
        "id": "awMzhy50yeIC"
      },
      "execution_count": null,
      "outputs": []
    },
    {
      "cell_type": "code",
      "source": [
        "X_test = scaler.transform(X_test)"
      ],
      "metadata": {
        "id": "gsJXY5Dpyhgg"
      },
      "execution_count": null,
      "outputs": []
    },
    {
      "cell_type": "code",
      "source": [
        "from tensorflow.keras.models import Sequential\n",
        "from tensorflow.keras.layers import Dense, Activation\n",
        "from tensorflow.keras.optimizers import Adam\n",
        "from tensorflow.keras.callbacks import Callback, ModelCheckpoint\n",
        "from tensorflow.keras.layers import Dropout"
      ],
      "metadata": {
        "id": "P3xWukJdykOQ"
      },
      "execution_count": null,
      "outputs": []
    },
    {
      "cell_type": "code",
      "source": [
        "model_price = Sequential()\n",
        "\n",
        "# Number of neurons equal to te feautres on the dataset\n",
        "model_price.add(Dense(8,activation='relu',input_shape=(8,)))\n",
        "model_price.add(Dropout(0.5))\n",
        "model_price.add(Dense(8,activation='relu'))\n",
        "model_price.add(Dropout(0.5))\n",
        "model_price.add(Dense(8,activation='relu'))\n",
        "model_price.add(Dropout(0.5))\n",
        "model_price.add(Dense(8,activation='relu'))\n",
        "model_price.add(Dropout(0.5))\n",
        "model_price.add(Dense(1, activation = 'linear'))\n",
        "\n",
        "model_price.compile(optimizer='adam',loss='mae')"
      ],
      "metadata": {
        "id": "UYEnidKUyntp"
      },
      "execution_count": null,
      "outputs": []
    },
    {
      "cell_type": "code",
      "source": [
        "from tensorflow.keras.callbacks import EarlyStopping\n",
        "cb = EarlyStopping(monitor='val_loss', mode='min', verbose=1, patience=25)"
      ],
      "metadata": {
        "id": "7LAYZShtyro0"
      },
      "execution_count": null,
      "outputs": []
    },
    {
      "cell_type": "code",
      "source": [
        "model_price.fit(x=X_train,y=Y_train, validation_data=(X_test, Y_test), batch_size=128, epochs=100, callbacks=[cb])\n",
        "# batch_size in power of two"
      ],
      "metadata": {
        "colab": {
          "base_uri": "https://localhost:8080/"
        },
        "id": "QOkfSbLPyu00",
        "outputId": "9dcb1341-1d6b-4df6-8e70-b020321e7f20"
      },
      "execution_count": null,
      "outputs": [
        {
          "output_type": "stream",
          "name": "stdout",
          "text": [
            "Epoch 1/100\n",
            "195/195 [==============================] - 1s 3ms/step - loss: 71.9649 - val_loss: 51.3576\n",
            "Epoch 2/100\n",
            "195/195 [==============================] - 0s 2ms/step - loss: 58.0875 - val_loss: 46.5238\n",
            "Epoch 3/100\n",
            "195/195 [==============================] - 0s 2ms/step - loss: 55.0900 - val_loss: 45.5354\n",
            "Epoch 4/100\n",
            "195/195 [==============================] - 0s 2ms/step - loss: 52.1721 - val_loss: 44.1256\n",
            "Epoch 5/100\n",
            "195/195 [==============================] - 0s 2ms/step - loss: 50.6281 - val_loss: 41.2960\n",
            "Epoch 6/100\n",
            "195/195 [==============================] - 0s 2ms/step - loss: 49.0179 - val_loss: 40.0772\n",
            "Epoch 7/100\n",
            "195/195 [==============================] - 0s 2ms/step - loss: 47.9850 - val_loss: 38.8290\n",
            "Epoch 8/100\n",
            "195/195 [==============================] - 0s 2ms/step - loss: 47.4263 - val_loss: 38.1901\n",
            "Epoch 9/100\n",
            "195/195 [==============================] - 0s 2ms/step - loss: 46.6223 - val_loss: 38.0407\n",
            "Epoch 10/100\n",
            "195/195 [==============================] - 0s 2ms/step - loss: 46.4192 - val_loss: 37.7981\n",
            "Epoch 11/100\n",
            "195/195 [==============================] - 0s 2ms/step - loss: 45.7014 - val_loss: 37.5469\n",
            "Epoch 12/100\n",
            "195/195 [==============================] - 0s 2ms/step - loss: 45.5709 - val_loss: 37.7901\n",
            "Epoch 13/100\n",
            "195/195 [==============================] - 0s 2ms/step - loss: 45.1539 - val_loss: 37.2693\n",
            "Epoch 14/100\n",
            "195/195 [==============================] - 0s 2ms/step - loss: 45.0419 - val_loss: 36.4936\n",
            "Epoch 15/100\n",
            "195/195 [==============================] - 0s 2ms/step - loss: 44.9126 - val_loss: 36.4132\n",
            "Epoch 16/100\n",
            "195/195 [==============================] - 0s 2ms/step - loss: 44.9216 - val_loss: 37.3189\n",
            "Epoch 17/100\n",
            "195/195 [==============================] - 0s 2ms/step - loss: 44.7458 - val_loss: 36.6760\n",
            "Epoch 18/100\n",
            "195/195 [==============================] - 0s 2ms/step - loss: 44.1766 - val_loss: 36.9827\n",
            "Epoch 19/100\n",
            "195/195 [==============================] - 0s 2ms/step - loss: 44.4119 - val_loss: 36.6075\n",
            "Epoch 20/100\n",
            "195/195 [==============================] - 0s 2ms/step - loss: 44.0844 - val_loss: 36.3247\n",
            "Epoch 21/100\n",
            "195/195 [==============================] - 0s 2ms/step - loss: 44.1800 - val_loss: 37.0436\n",
            "Epoch 22/100\n",
            "195/195 [==============================] - 0s 2ms/step - loss: 43.8287 - val_loss: 36.5260\n",
            "Epoch 23/100\n",
            "195/195 [==============================] - 0s 2ms/step - loss: 43.8392 - val_loss: 36.6477\n",
            "Epoch 24/100\n",
            "195/195 [==============================] - 0s 2ms/step - loss: 43.6912 - val_loss: 36.8785\n",
            "Epoch 25/100\n",
            "195/195 [==============================] - 0s 2ms/step - loss: 43.3735 - val_loss: 36.4607\n",
            "Epoch 26/100\n",
            "195/195 [==============================] - 0s 2ms/step - loss: 43.6658 - val_loss: 36.7363\n",
            "Epoch 27/100\n",
            "195/195 [==============================] - 0s 2ms/step - loss: 43.3334 - val_loss: 36.3962\n",
            "Epoch 28/100\n",
            "195/195 [==============================] - 0s 2ms/step - loss: 43.2792 - val_loss: 36.3404\n",
            "Epoch 29/100\n",
            "195/195 [==============================] - 0s 2ms/step - loss: 43.1736 - val_loss: 36.5926\n",
            "Epoch 30/100\n",
            "195/195 [==============================] - 0s 2ms/step - loss: 42.9039 - val_loss: 36.4435\n",
            "Epoch 31/100\n",
            "195/195 [==============================] - 0s 2ms/step - loss: 42.9189 - val_loss: 36.6026\n",
            "Epoch 32/100\n",
            "195/195 [==============================] - 0s 2ms/step - loss: 42.8898 - val_loss: 36.3205\n",
            "Epoch 33/100\n",
            "195/195 [==============================] - 0s 2ms/step - loss: 42.7066 - val_loss: 36.5111\n",
            "Epoch 34/100\n",
            "195/195 [==============================] - 0s 2ms/step - loss: 42.5518 - val_loss: 36.0189\n",
            "Epoch 35/100\n",
            "195/195 [==============================] - 0s 2ms/step - loss: 42.3269 - val_loss: 36.2899\n",
            "Epoch 36/100\n",
            "195/195 [==============================] - 0s 2ms/step - loss: 42.3971 - val_loss: 36.6492\n",
            "Epoch 37/100\n",
            "195/195 [==============================] - 0s 2ms/step - loss: 42.2780 - val_loss: 36.1368\n",
            "Epoch 38/100\n",
            "195/195 [==============================] - 0s 2ms/step - loss: 42.2388 - val_loss: 36.2873\n",
            "Epoch 39/100\n",
            "195/195 [==============================] - 0s 2ms/step - loss: 42.3543 - val_loss: 36.2568\n",
            "Epoch 40/100\n",
            "195/195 [==============================] - 0s 2ms/step - loss: 42.1591 - val_loss: 35.6750\n",
            "Epoch 41/100\n",
            "195/195 [==============================] - 0s 2ms/step - loss: 42.3554 - val_loss: 36.5382\n",
            "Epoch 42/100\n",
            "195/195 [==============================] - 0s 2ms/step - loss: 42.4068 - val_loss: 36.2519\n",
            "Epoch 43/100\n",
            "195/195 [==============================] - 0s 2ms/step - loss: 41.9966 - val_loss: 36.4495\n",
            "Epoch 44/100\n",
            "195/195 [==============================] - 0s 2ms/step - loss: 42.0033 - val_loss: 35.9878\n",
            "Epoch 45/100\n",
            "195/195 [==============================] - 0s 2ms/step - loss: 42.0062 - val_loss: 36.2937\n",
            "Epoch 46/100\n",
            "195/195 [==============================] - 0s 2ms/step - loss: 41.8943 - val_loss: 36.1574\n",
            "Epoch 47/100\n",
            "195/195 [==============================] - 0s 2ms/step - loss: 41.8904 - val_loss: 36.0078\n",
            "Epoch 48/100\n",
            "195/195 [==============================] - 0s 2ms/step - loss: 41.7937 - val_loss: 36.4996\n",
            "Epoch 49/100\n",
            "195/195 [==============================] - 0s 2ms/step - loss: 41.8437 - val_loss: 36.0448\n",
            "Epoch 50/100\n",
            "195/195 [==============================] - 0s 2ms/step - loss: 41.7391 - val_loss: 35.6955\n",
            "Epoch 51/100\n",
            "195/195 [==============================] - 0s 2ms/step - loss: 41.4515 - val_loss: 35.8274\n",
            "Epoch 52/100\n",
            "195/195 [==============================] - 0s 2ms/step - loss: 41.4745 - val_loss: 36.1910\n",
            "Epoch 53/100\n",
            "195/195 [==============================] - 0s 2ms/step - loss: 41.7449 - val_loss: 36.3674\n",
            "Epoch 54/100\n",
            "195/195 [==============================] - 0s 2ms/step - loss: 41.5368 - val_loss: 36.4267\n",
            "Epoch 55/100\n",
            "195/195 [==============================] - 0s 2ms/step - loss: 41.5119 - val_loss: 36.3005\n",
            "Epoch 56/100\n",
            "195/195 [==============================] - 0s 2ms/step - loss: 41.4885 - val_loss: 36.0923\n",
            "Epoch 57/100\n",
            "195/195 [==============================] - 0s 2ms/step - loss: 41.6643 - val_loss: 36.1039\n",
            "Epoch 58/100\n",
            "195/195 [==============================] - 0s 2ms/step - loss: 41.4819 - val_loss: 36.3687\n",
            "Epoch 59/100\n",
            "195/195 [==============================] - 0s 2ms/step - loss: 41.4485 - val_loss: 36.6793\n",
            "Epoch 60/100\n",
            "195/195 [==============================] - 0s 2ms/step - loss: 41.2763 - val_loss: 36.0620\n",
            "Epoch 61/100\n",
            "195/195 [==============================] - 0s 2ms/step - loss: 41.1028 - val_loss: 36.5022\n",
            "Epoch 62/100\n",
            "195/195 [==============================] - 0s 2ms/step - loss: 41.2567 - val_loss: 35.8144\n",
            "Epoch 63/100\n",
            "195/195 [==============================] - 0s 2ms/step - loss: 41.3955 - val_loss: 36.2999\n",
            "Epoch 64/100\n",
            "195/195 [==============================] - 0s 2ms/step - loss: 41.1653 - val_loss: 35.9276\n",
            "Epoch 65/100\n",
            "195/195 [==============================] - 0s 2ms/step - loss: 41.5395 - val_loss: 36.5072\n",
            "Epoch 00065: early stopping\n"
          ]
        },
        {
          "output_type": "execute_result",
          "data": {
            "text/plain": [
              "<keras.callbacks.History at 0x7f304705bcd0>"
            ]
          },
          "metadata": {},
          "execution_count": 22
        }
      ]
    },
    {
      "cell_type": "code",
      "source": [
        "losses = pd.DataFrame(model_price.history.history)\n",
        "losses.plot()"
      ],
      "metadata": {
        "colab": {
          "base_uri": "https://localhost:8080/",
          "height": 282
        },
        "id": "-DW1oSDZy1zQ",
        "outputId": "f59f390c-30f6-4de1-c937-4c70a1378d31"
      },
      "execution_count": null,
      "outputs": [
        {
          "output_type": "execute_result",
          "data": {
            "text/plain": [
              "<matplotlib.axes._subplots.AxesSubplot at 0x7f30427e1090>"
            ]
          },
          "metadata": {},
          "execution_count": 23
        },
        {
          "output_type": "display_data",
          "data": {
            "image/png": "[encoded data removed]",
            "text/plain": [
              "<Figure size 432x288 with 1 Axes>"
            ]
          },
          "metadata": {
            "needs_background": "light"
          }
        }
      ]
    },
    {
      "cell_type": "code",
      "source": [
        "from sklearn.metrics import mean_absolute_error, max_error, mean_squared_error"
      ],
      "metadata": {
        "id": "BN6M2pDuy8Dw"
      },
      "execution_count": null,
      "outputs": []
    },
    {
      "cell_type": "code",
      "source": [
        "y_pred = model_price.predict(X_test).reshape(X_test.shape[0])\n",
        "\n",
        "# Create a dataframe to put the two columns of the true value and the prediction\n",
        "pred_df = pd.DataFrame({'Actual value':Y_test, 'Predicted value':y_pred})\n",
        "print(pred_df.head())"
      ],
      "metadata": {
        "colab": {
          "base_uri": "https://localhost:8080/"
        },
        "id": "6PJSlmHMzAEP",
        "outputId": "09f82ae2-9565-4d83-c75a-0731e5cbe9e4"
      },
      "execution_count": null,
      "outputs": [
        {
          "output_type": "stream",
          "name": "stdout",
          "text": [
            "   Actual value  Predicted value\n",
            "0          85.0        62.755238\n",
            "1          47.0        42.899002\n",
            "2          43.0        42.899002\n",
            "3          24.0        42.899002\n",
            "4          30.0        42.899002\n"
          ]
        }
      ]
    },
    {
      "cell_type": "code",
      "source": [
        "mean_absolute_error(y_true=pred_df['Actual value'], y_pred=pred_df['Predicted value'])"
      ],
      "metadata": {
        "id": "ChqOr1kvzCuS",
        "outputId": "f7b933f8-61d6-46cf-c3ff-c94e396f170f",
        "colab": {
          "base_uri": "https://localhost:8080/"
        }
      },
      "execution_count": null,
      "outputs": [
        {
          "output_type": "execute_result",
          "data": {
            "text/plain": [
              "36.50715257955664"
            ]
          },
          "metadata": {},
          "execution_count": 26
        }
      ]
    }
  ]
}